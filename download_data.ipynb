{
  "nbformat": 4,
  "nbformat_minor": 0,
  "metadata": {
    "colab": {
      "provenance": []
    },
    "kernelspec": {
      "name": "python3",
      "display_name": "Python 3"
    },
    "language_info": {
      "name": "python"
    }
  },
  "cells": [
    {
      "cell_type": "code",
      "source": [
        "pip install yfinance"
      ],
      "metadata": {
        "id": "I0i17vB8GBTv"
      },
      "execution_count": null,
      "outputs": []
    },
    {
      "cell_type": "code",
      "execution_count": 1,
      "metadata": {
        "id": "0yLP9PqLF8eT"
      },
      "outputs": [],
      "source": [
        "import yfinance as yf"
      ]
    },
    {
      "cell_type": "code",
      "source": [
        "start_date = \"2022-01-01\"\n",
        "end_date = \"2024-04-25\"\n",
        "# Fetch Bitcoin price data from Yahoo Finance\n",
        "data = yf.download(\"BTC-USD\", start=start_date, end=end_date)\n"
      ],
      "metadata": {
        "id": "AfRdspZBGAZU"
      },
      "execution_count": null,
      "outputs": []
    },
    {
      "cell_type": "code",
      "source": [
        "data.to_csv('data.csv')\n",
        "from google.colab import files\n",
        "files.download('data.csv')"
      ],
      "metadata": {
        "id": "XCaXpl7AILck"
      },
      "execution_count": null,
      "outputs": []
    }
  ]
}